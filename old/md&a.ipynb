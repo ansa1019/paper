{
 "cells": [
  {
   "cell_type": "code",
   "execution_count": 1,
   "metadata": {},
   "outputs": [
    {
     "data": {
      "text/html": [
       "<pre style=\"white-space:pre;overflow-x:auto;line-height:normal;font-family:Menlo,'DejaVu Sans Mono',consolas,'Courier New',monospace\"><span style=\"color: #7fbfbf; text-decoration-color: #7fbfbf\">[05:33:05] </span><span style=\"color: #000080; text-decoration-color: #000080\">INFO    </span> Identity of the Edgar REST client set to <span style=\"font-weight: bold\">[</span>ansa ansa1019@gmail.com<span style=\"font-weight: bold\">]</span>                  <a href=\"file:///mnt/md0/home/ansa1019/anaconda3/lib/python3.9/site-packages/edgar/core.py\" target=\"_blank\"><span style=\"color: #7f7f7f; text-decoration-color: #7f7f7f\">core.py</span></a><span style=\"color: #7f7f7f; text-decoration-color: #7f7f7f\">:</span><a href=\"file:///mnt/md0/home/ansa1019/anaconda3/lib/python3.9/site-packages/edgar/core.py#161\" target=\"_blank\"><span style=\"color: #7f7f7f; text-decoration-color: #7f7f7f\">161</span></a>\n",
       "</pre>\n"
      ],
      "text/plain": [
       "\u001b[2;36m[05:33:05]\u001b[0m\u001b[2;36m \u001b[0m\u001b[34mINFO    \u001b[0m Identity of the Edgar REST client set to \u001b[1m[\u001b[0mansa ansa1019@gmail.com\u001b[1m]\u001b[0m                  \u001b]8;id=687777;file:///mnt/md0/home/ansa1019/anaconda3/lib/python3.9/site-packages/edgar/core.py\u001b\\\u001b[2mcore.py\u001b[0m\u001b]8;;\u001b\\\u001b[2m:\u001b[0m\u001b]8;id=928156;file:///mnt/md0/home/ansa1019/anaconda3/lib/python3.9/site-packages/edgar/core.py#161\u001b\\\u001b[2m161\u001b[0m\u001b]8;;\u001b\\\n"
      ]
     },
     "metadata": {},
     "output_type": "display_data"
    }
   ],
   "source": [
    "import os\n",
    "import re\n",
    "import warnings\n",
    "import unicodedata\n",
    "from edgar import *\n",
    "import pandas as pd\n",
    "from tqdm import tqdm\n",
    "\n",
    "warnings.simplefilter(\"ignore\")\n",
    "set_identity(\"ansa ansa1019@gmail.com\")\n",
    "headers = {\n",
    "    \"User-Agent\": \"NPUST@wp.npust.edu.tw\",\n",
    "    \"Accept-Encoding\": \"gzip\",\n",
    "    \"Host\": \"www.sec.gov\",\n",
    "}\n",
    "df = pd.read_csv(\"sp500_companies.csv\")\n",
    "companies = df[\"Symbol\"].values\n",
    "\n",
    "\n",
    "def write_content(content, output_path):\n",
    "    with open(output_path, \"w\", encoding=\"utf-8\") as fout:\n",
    "        fout.write(content)\n",
    "\n",
    "\n",
    "def normalize(text):\n",
    "    text = unicodedata.normalize(\"NFKD\", text)\n",
    "    text = \"\\n\".join(text.splitlines())\n",
    "    clear_pattern = [\"^\\s\", \"\", \"\\xa0\", \"&nbsp;\"]\n",
    "    for x in clear_pattern:\n",
    "        text = re.sub(re.compile(x, re.I | re.M), \"\", text)\n",
    "    while list(re.finditer(\"[a-z,]\\s*$\\s*[a-z,]\", text, re.I | re.M)):\n",
    "        x = list(re.finditer(\"[a-z,]\\s*$\\s*[a-z,]\", text, re.I | re.M))[0]\n",
    "        text = text[:x.start()+1]+\" \"+text[x.end()-1:]\n",
    "    return text\n",
    "\n",
    "\n",
    "def clear(text):\n",
    "    if re.search(\"item 7\", text.split(\"\\n\", 1)[0], re.I | re.M):\n",
    "        text = text.split(\"\\n\", 1)[1]\n",
    "    text = re.sub(re.compile(\"\\s*\\n+\", re.I | re.M), \"\\n\", text)\n",
    "    clear_pattern = [\"^\\s*Table\\s*of\\s*Contents?\\s*$\", \"^\\s*\\d+\\s*$\", \"^\\s*[-]+\\s*$\",\n",
    "                     \"^\\s*[^\\n]*\\|?[^\\S\\n]*\\d{4}[^\\S\\n]*Form[^\\S\\n]*10-K[^\\S\\n]*\\|?[^\\S\\n]*\\d*\\s*$\", \"^\\s*Bank\\s*of\\s*America\\s*[^\\S\\n]*\\d*\\s*$\"]\n",
    "    for x in clear_pattern:\n",
    "        text = re.sub(re.compile(x, re.I | re.M), \"\", text)\n",
    "    # text = re.sub(\"\\n+|\\s+\", \" \", text, flags=re.M) #刪掉換行\n",
    "    text = text.lower()\n",
    "    return text"
   ]
  },
  {
   "cell_type": "code",
   "execution_count": 1,
   "metadata": {},
   "outputs": [
    {
     "ename": "NameError",
     "evalue": "name 'os' is not defined",
     "output_type": "error",
     "traceback": [
      "\u001b[0;31m---------------------------------------------------------------------------\u001b[0m",
      "\u001b[0;31mNameError\u001b[0m                                 Traceback (most recent call last)",
      "Cell \u001b[0;32mIn[1], line 4\u001b[0m\n\u001b[1;32m      1\u001b[0m log \u001b[38;5;241m=\u001b[39m \u001b[38;5;124m\"\u001b[39m\u001b[38;5;124m\"\u001b[39m\n\u001b[1;32m      2\u001b[0m root \u001b[38;5;241m=\u001b[39m \u001b[38;5;124m\"\u001b[39m\u001b[38;5;124mmda/\u001b[39m\u001b[38;5;124m\"\u001b[39m\n\u001b[0;32m----> 4\u001b[0m \u001b[38;5;28;01mif\u001b[39;00m \u001b[38;5;129;01mnot\u001b[39;00m \u001b[43mos\u001b[49m\u001b[38;5;241m.\u001b[39mpath\u001b[38;5;241m.\u001b[39misdir(root):\n\u001b[1;32m      5\u001b[0m     os\u001b[38;5;241m.\u001b[39mmakedirs(root)\n\u001b[1;32m      6\u001b[0m \u001b[38;5;28;01mfor\u001b[39;00m y \u001b[38;5;129;01min\u001b[39;00m \u001b[38;5;28mrange\u001b[39m(\u001b[38;5;241m2014\u001b[39m, \u001b[38;5;241m2025\u001b[39m):\n",
      "\u001b[0;31mNameError\u001b[0m: name 'os' is not defined"
     ]
    }
   ],
   "source": [
    "log = \"\"\n",
    "root = \"mda/\"\n",
    "\n",
    "if not os.path.isdir(root):\n",
    "    os.makedirs(root)\n",
    "for y in range(2014, 2025):\n",
    "    folder = root + str(y) + \"/\"\n",
    "    if not os.path.isdir(folder):\n",
    "        os.makedirs(folder)\n",
    "\n",
    "loop = tqdm(range(len(companies)))\n",
    "for i in loop:\n",
    "    company = Company(companies[i])\n",
    "    filings = company.get_filings(form=\"10-K\").filter(date=\"2015-01-01:2024-12-31\")\n",
    "    if filings.empty:\n",
    "        loop.set_description(f\"{companies[i]}\")\n",
    "        log += f\"❌ {companies[i]} 無10-K可供下載\\n\"\n",
    "    else:\n",
    "        for filing in filings:\n",
    "            try:\n",
    "                path = root + filing.report_date[:4] + \"/\" + companies[i] + \".txt\"\n",
    "                loop.set_description(path)\n",
    "                tenk = filing.obj()\n",
    "                text = normalize(tenk[\"Item 7\"])\n",
    "                text = clear(text)\n",
    "                write_content(text, path)\n",
    "            except Exception as e:\n",
    "                log += f\"❌ {path} 下載失敗\\n{e}\"\n",
    "                continue\n",
    "        log += f\"✅ {companies[i]} 下載完成\\n\"\n",
    "print(log)"
   ]
  }
 ],
 "metadata": {
  "kernelspec": {
   "display_name": "base",
   "language": "python",
   "name": "python3"
  },
  "language_info": {
   "codemirror_mode": {
    "name": "ipython",
    "version": 3
   },
   "file_extension": ".py",
   "mimetype": "text/x-python",
   "name": "python",
   "nbconvert_exporter": "python",
   "pygments_lexer": "ipython3",
   "version": "3.9.20"
  }
 },
 "nbformat": 4,
 "nbformat_minor": 2
}
