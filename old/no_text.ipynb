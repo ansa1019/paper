{
 "cells": [
  {
   "cell_type": "code",
   "execution_count": null,
   "metadata": {},
   "outputs": [],
   "source": [
    "import re\n",
    "import json\n",
    "\n",
    "# 關鍵字\n",
    "it_capability_keywords = [\n",
    "    \"IT infrastructure\", \"system architecture\", \"cloud computing\",\n",
    "    \"enterprise systems\", \"hardware\", \"software\", \"platform modernization\",\n",
    "    \"information systems\", \"software development\", \"manufacturing process equipment\",\n",
    "    \"tooling\", \"data analytics\", \"big data\", \"machine learning\",\n",
    "    \"artificial intelligence\", \"predictive analytics\", \"IT performance\",\n",
    "    \"operational efficiency\", \"sales platforms\", \"digital platforms\",\n",
    "    \"distribution network\", \"technology strategy\", \"R&D\", \"innovation\",\n",
    "    \"software upgrades\", \"product lifecycle management\", \"capital asset investment\",\n",
    "    \"application development\", \"technological integration\"\n",
    "]\n",
    "\n",
    "organizational_resilience_keywords = [\n",
    "    \"risk management\", \"crisis management\", \"disaster recovery\",\n",
    "    \"business continuity\", \"contingency planning\", \"operational resilience\",\n",
    "    \"regulatory compliance\", \"legal contingencies\", \"liability management\",\n",
    "    \"adaptability\", \"resilience planning\", \"system flexibility\",\n",
    "    \"resource optimization\", \"strategic initiatives\", \"post-sales support\",\n",
    "    \"warranty\", \"maintenance programs\", \"market adaptability\",\n",
    "    \"competitive pressure\", \"pricing strategies\", \"financial adjustments\",\n",
    "    \"revenue protection\", \"customer retention\", \"component supply chain\",\n",
    "    \"procurement strategies\"\n",
    "]"
   ]
  },
  {
   "cell_type": "code",
   "execution_count": null,
   "metadata": {},
   "outputs": [],
   "source": [
    "# 創建正則表達式模式\n",
    "def create_keyword_pattern(keywords):\n",
    "    return re.compile(r\"\\b(\" + \"|\".join(re.escape(kw) for kw in keywords) + r\")\\b\", re.IGNORECASE)\n",
    "\n",
    "it_pattern = create_keyword_pattern(it_capability_keywords)\n",
    "resilience_pattern = create_keyword_pattern(organizational_resilience_keywords)\n",
    "\n",
    "# 改進句子切分邏輯\n",
    "def split_sentences(text):\n",
    "    sentence_pattern = re.compile(r'([^.!?;]+[.!?;])')  # 按標點分句\n",
    "    sentences = sentence_pattern.findall(text)\n",
    "    return [sentence.strip() for sentence in sentences]\n",
    "\n",
    "# 提取並分類句子\n",
    "def extract_and_classify_sentences(text):\n",
    "    sentences = split_sentences(text)  # 自定義斷句處理\n",
    "    results = {\"IT Capability\": [], \"Organizational Resilience\": []}\n",
    "\n",
    "    for sentence in sentences:\n",
    "        if it_pattern.search(sentence):\n",
    "            results[\"IT Capability\"].append(sentence.strip())\n",
    "        if resilience_pattern.search(sentence):\n",
    "            results[\"Organizational Resilience\"].append(sentence.strip())\n",
    "\n",
    "    return results"
   ]
  },
  {
   "cell_type": "code",
   "execution_count": null,
   "metadata": {},
   "outputs": [],
   "source": [
    "# 單文本測試\n",
    "with open(\"AAPL_2010\", \"r\") as f:\n",
    "    text = f.read()\n",
    "classified_sentences = extract_and_classify_sentences(text)\n",
    "print(\"Classified Sentences:\")\n",
    "print(json.dumps(classified_sentences, indent=4))"
   ]
  },
  {
   "cell_type": "code",
   "execution_count": null,
   "metadata": {},
   "outputs": [],
   "source": [
    "# 批量處理文件（選擇文件路徑進行批處理）\n",
    "file_paths = [\"AAPL_2010.txt\"]\n",
    "results = process_documents(file_paths)\n",
    "save_results_to_json(results, \"output.json\")"
   ]
  }
 ],
 "metadata": {
  "kernelspec": {
   "display_name": "base",
   "language": "python",
   "name": "python3"
  },
  "language_info": {
   "name": "python",
   "version": "3.9.20"
  }
 },
 "nbformat": 4,
 "nbformat_minor": 2
}
