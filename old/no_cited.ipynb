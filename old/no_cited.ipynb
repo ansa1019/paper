{
 "cells": [
  {
   "cell_type": "code",
   "execution_count": 2,
   "id": "b575df9c-6a82-4172-abc6-827a79fb0197",
   "metadata": {},
   "outputs": [
    {
     "name": "stdout",
     "output_type": "stream",
     "text": [
      "已將 0 篇符合條件的文章儲存到 Information_technology_capability.csv\n"
     ]
    }
   ],
   "source": [
    "import csv\n",
    "from serpapi import GoogleSearch\n",
    "import time\n",
    "\n",
    "# API 金鑰\n",
    "API_KEY = \"9be186a2a835a38c3da4f7548d16ea50fa97d60eaca5f5a19e095344440d6493\"\n",
    "\n",
    "# 儲存文章\n",
    "articles = []\n",
    "\n",
    "# 設置目標\n",
    "q = '\"Information technology capability\"'\n",
    "target = \"Information technology capability\"\n",
    "# 最低引用次數\n",
    "cited_by_info_qte = 200\n",
    "# 搜尋頁數\n",
    "page_num = 100\n",
    "\n",
    "# 設置開始頁面\n",
    "start = 0\n",
    "while True:\n",
    "    params = {\n",
    "        \"engine\": \"google_scholar\",\n",
    "        \"q\": q,\n",
    "        \"api_key\": API_KEY,\n",
    "        \"hl\": \"en\",\n",
    "        \"num\": page_num,\n",
    "        \"start\": start,\n",
    "        \"date_range\": \"2000-2024\"\n",
    "    }\n",
    "\n",
    "    search = GoogleSearch(params)\n",
    "    results = search.get_dict()\n",
    "\n",
    "    # 檢查數據結構\n",
    "    if \"organic_results\" not in results or not results[\"organic_results\"]:\n",
    "        break  # 如果沒有更多文章，停止請求\n",
    "\n",
    "    for result in results.get(\"organic_results\", []):\n",
    "        title = result.get(\"title\", \"標題不可用\")\n",
    "        abstract = result.get(\"snippet\", \"\")\n",
    "        link = result.get(\"link\", \"\")\n",
    "        cited_by_info = result.get(\"inline_links\", {}).get(\n",
    "            \"cited_by\", {}).get(\"total\", None)\n",
    "\n",
    "        # 新的過濾條件：引用次數 > cited_by_info_qte 且標題或摘要中包含 target\n",
    "        if cited_by_info is not None and cited_by_info > cited_by_info_qte and (target in title.lower() or target in abstract.lower()):\n",
    "            articles.append(\n",
    "                {\"Title\": title, \"Cited By\": cited_by_info, \"link\": link})  # 儲存標題和引用次數\n",
    "\n",
    "    # 更新開始頁面\n",
    "    start += page_num\n",
    "\n",
    "    # 休眠以避免觸發 API 限制\n",
    "    time.sleep(1)  # 根據需要調整休眠時間\n",
    "\n",
    "# 將結果寫入 CSV 文件\n",
    "file = target.replace(\" \", \"_\")+\".csv\"\n",
    "with open(file, \"w\", newline=\"\", encoding=\"utf-8-sig\") as csvfile:\n",
    "    fieldnames = [\"Title\", \"Cited By\", \"link\"]  # 更新欄位名稱\n",
    "    writer = csv.DictWriter(csvfile, fieldnames=fieldnames)\n",
    "    writer.writeheader()\n",
    "    for article in articles:\n",
    "        writer.writerow(article)\n",
    "\n",
    "print(f\"已將 {len(articles)} 篇符合條件的文章儲存到 {file}\")"
   ]
  }
 ],
 "metadata": {
  "kernelspec": {
   "display_name": "base",
   "language": "python",
   "name": "python3"
  },
  "language_info": {
   "codemirror_mode": {
    "name": "ipython",
    "version": 3
   },
   "file_extension": ".py",
   "mimetype": "text/x-python",
   "name": "python",
   "nbconvert_exporter": "python",
   "pygments_lexer": "ipython3",
   "version": "3.9.20"
  }
 },
 "nbformat": 4,
 "nbformat_minor": 5
}
