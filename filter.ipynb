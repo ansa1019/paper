{
 "cells": [
  {
   "cell_type": "code",
   "execution_count": 3,
   "id": "9dc35249",
   "metadata": {},
   "outputs": [
    {
     "name": "stdout",
     "output_type": "stream",
     "text": [
      "Warning: Looks like you're using an outdated `kagglehub` version (installed: 0.3.10), please consider upgrading to the latest version (0.3.12).\n"
     ]
    }
   ],
   "source": [
    "import os\n",
    "import json\n",
    "import kagglehub\n",
    "from edgar import *\n",
    "from tqdm import tqdm\n",
    "from kagglehub import KaggleDatasetAdapter\n",
    "\n",
    "\n",
    "df_companies = kagglehub.dataset_load(\n",
    "    KaggleDatasetAdapter.PANDAS, \"andrewmvd/sp-500-stocks\", \"sp500_companies.csv\"\n",
    ").drop_duplicates(subset=[\"Shortname\"], keep=\"first\")\n",
    "companies = df_companies[df_companies[\"Country\"] == \"United States\"][\"Symbol\"].values\n",
    "with open(\"companies.json\", \"r\", encoding=\"utf-8\") as f:\n",
    "    data = json.load(f)\n",
    "missing_companies = [entry[\"ticker\"] for entry in data[\"missing_companies\"]]\n",
    "find_cik = {entry[\"ticker\"]: entry[\"cik\"] for entry in data[\"find_cik\"]}\n",
    "companies = [c for c in companies if c not in missing_companies]\n",
    "search_queries = [\"IT capability\", \"organizational resilience\"]\n",
    "report_year = [2014, 2023]  # 2014/1/1-2023/12/31\n",
    "define_folder = \"define/\"\n",
    "report_folder = \"paper_7/report/\"\n",
    "filter_folder = \"paper_7/filter/\"\n",
    "if not os.path.exists(report_folder):\n",
    "    os.makedirs(report_folder)\n",
    "if not os.path.exists(filter_folder):\n",
    "    os.makedirs(filter_folder)\n",
    "for search_query in search_queries:\n",
    "    folder = filter_folder + search_query + \"/\"\n",
    "    if not os.path.exists(folder):\n",
    "        os.makedirs(folder)\n",
    "    for x in range(report_year[0], report_year[1] + 1):\n",
    "        fol = folder + str(x) + \"/\"\n",
    "        if not os.path.exists(fol):\n",
    "            os.makedirs(fol)\n",
    "for x in range(report_year[0], report_year[1] + 1):\n",
    "    folder = report_folder + str(x)\n",
    "    if not os.path.exists(folder):\n",
    "        os.makedirs(folder)\n",
    "\n",
    "\n",
    "def save_to_file(content, path):\n",
    "    with open(path, \"w\", encoding=\"utf-8\") as file:\n",
    "        file.write(content)"
   ]
  },
  {
   "cell_type": "code",
   "execution_count": 4,
   "id": "d842017d",
   "metadata": {},
   "outputs": [],
   "source": [
    "# keywords\n",
    "keywords = {}\n",
    "for search_query in search_queries:\n",
    "    with open(f\"{define_folder}{search_query}.json\", \"r\") as f:\n",
    "        keywords[search_query] = json.load(f)[\"keyword\"]"
   ]
  },
  {
   "cell_type": "code",
   "execution_count": 6,
   "id": "04f8a198",
   "metadata": {},
   "outputs": [
    {
     "name": "stdout",
     "output_type": "stream",
     "text": [
      "IT capability\n"
     ]
    },
    {
     "name": "stderr",
     "output_type": "stream",
     "text": [
      "篩選 2018 年文本:  40%|████      | 4/10 [00:34<00:51,  8.52s/it]\n"
     ]
    },
    {
     "ename": "KeyboardInterrupt",
     "evalue": "",
     "output_type": "error",
     "traceback": [
      "\u001b[0;31m---------------------------------------------------------------------------\u001b[0m",
      "\u001b[0;31mKeyboardInterrupt\u001b[0m                         Traceback (most recent call last)",
      "Cell \u001b[0;32mIn[6], line 18\u001b[0m\n\u001b[1;32m     16\u001b[0m paragraphs \u001b[38;5;241m=\u001b[39m text\u001b[38;5;241m.\u001b[39mstrip()\u001b[38;5;241m.\u001b[39msplit(\u001b[38;5;124m\"\u001b[39m\u001b[38;5;130;01m\\n\u001b[39;00m\u001b[38;5;124m\"\u001b[39m)\n\u001b[1;32m     17\u001b[0m \u001b[38;5;66;03m# 轉小寫做比對（保留原始段落）\u001b[39;00m\n\u001b[0;32m---> 18\u001b[0m matched_paragraphs \u001b[38;5;241m=\u001b[39m [\n\u001b[1;32m     19\u001b[0m     para\n\u001b[1;32m     20\u001b[0m     \u001b[38;5;28;01mfor\u001b[39;00m para \u001b[38;5;129;01min\u001b[39;00m paragraphs\n\u001b[1;32m     21\u001b[0m     \u001b[38;5;28;01mif\u001b[39;00m \u001b[38;5;28many\u001b[39m(k\u001b[38;5;241m.\u001b[39mlower() \u001b[38;5;129;01min\u001b[39;00m para\u001b[38;5;241m.\u001b[39mlower() \u001b[38;5;28;01mfor\u001b[39;00m k \u001b[38;5;129;01min\u001b[39;00m keywords[search_query])\n\u001b[1;32m     22\u001b[0m ]\n\u001b[1;32m     23\u001b[0m \u001b[38;5;66;03m# 合併成新文本\u001b[39;00m\n\u001b[1;32m     24\u001b[0m text \u001b[38;5;241m=\u001b[39m \u001b[38;5;124m\"\u001b[39m\u001b[38;5;130;01m\\n\u001b[39;00m\u001b[38;5;124m\"\u001b[39m\u001b[38;5;241m.\u001b[39mjoin(matched_paragraphs)\n",
      "Cell \u001b[0;32mIn[6], line 21\u001b[0m, in \u001b[0;36m<listcomp>\u001b[0;34m(.0)\u001b[0m\n\u001b[1;32m     16\u001b[0m paragraphs \u001b[38;5;241m=\u001b[39m text\u001b[38;5;241m.\u001b[39mstrip()\u001b[38;5;241m.\u001b[39msplit(\u001b[38;5;124m\"\u001b[39m\u001b[38;5;130;01m\\n\u001b[39;00m\u001b[38;5;124m\"\u001b[39m)\n\u001b[1;32m     17\u001b[0m \u001b[38;5;66;03m# 轉小寫做比對（保留原始段落）\u001b[39;00m\n\u001b[1;32m     18\u001b[0m matched_paragraphs \u001b[38;5;241m=\u001b[39m [\n\u001b[1;32m     19\u001b[0m     para\n\u001b[1;32m     20\u001b[0m     \u001b[38;5;28;01mfor\u001b[39;00m para \u001b[38;5;129;01min\u001b[39;00m paragraphs\n\u001b[0;32m---> 21\u001b[0m     \u001b[38;5;28;01mif\u001b[39;00m \u001b[38;5;28;43many\u001b[39;49m\u001b[43m(\u001b[49m\u001b[43mk\u001b[49m\u001b[38;5;241;43m.\u001b[39;49m\u001b[43mlower\u001b[49m\u001b[43m(\u001b[49m\u001b[43m)\u001b[49m\u001b[43m \u001b[49m\u001b[38;5;129;43;01min\u001b[39;49;00m\u001b[43m \u001b[49m\u001b[43mpara\u001b[49m\u001b[38;5;241;43m.\u001b[39;49m\u001b[43mlower\u001b[49m\u001b[43m(\u001b[49m\u001b[43m)\u001b[49m\u001b[43m \u001b[49m\u001b[38;5;28;43;01mfor\u001b[39;49;00m\u001b[43m \u001b[49m\u001b[43mk\u001b[49m\u001b[43m \u001b[49m\u001b[38;5;129;43;01min\u001b[39;49;00m\u001b[43m \u001b[49m\u001b[43mkeywords\u001b[49m\u001b[43m[\u001b[49m\u001b[43msearch_query\u001b[49m\u001b[43m]\u001b[49m\u001b[43m)\u001b[49m\n\u001b[1;32m     22\u001b[0m ]\n\u001b[1;32m     23\u001b[0m \u001b[38;5;66;03m# 合併成新文本\u001b[39;00m\n\u001b[1;32m     24\u001b[0m text \u001b[38;5;241m=\u001b[39m \u001b[38;5;124m\"\u001b[39m\u001b[38;5;130;01m\\n\u001b[39;00m\u001b[38;5;124m\"\u001b[39m\u001b[38;5;241m.\u001b[39mjoin(matched_paragraphs)\n",
      "Cell \u001b[0;32mIn[6], line 21\u001b[0m, in \u001b[0;36m<genexpr>\u001b[0;34m(.0)\u001b[0m\n\u001b[1;32m     16\u001b[0m paragraphs \u001b[38;5;241m=\u001b[39m text\u001b[38;5;241m.\u001b[39mstrip()\u001b[38;5;241m.\u001b[39msplit(\u001b[38;5;124m\"\u001b[39m\u001b[38;5;130;01m\\n\u001b[39;00m\u001b[38;5;124m\"\u001b[39m)\n\u001b[1;32m     17\u001b[0m \u001b[38;5;66;03m# 轉小寫做比對（保留原始段落）\u001b[39;00m\n\u001b[1;32m     18\u001b[0m matched_paragraphs \u001b[38;5;241m=\u001b[39m [\n\u001b[1;32m     19\u001b[0m     para\n\u001b[1;32m     20\u001b[0m     \u001b[38;5;28;01mfor\u001b[39;00m para \u001b[38;5;129;01min\u001b[39;00m paragraphs\n\u001b[0;32m---> 21\u001b[0m     \u001b[38;5;28;01mif\u001b[39;00m \u001b[38;5;28many\u001b[39m(k\u001b[38;5;241m.\u001b[39mlower() \u001b[38;5;129;01min\u001b[39;00m para\u001b[38;5;241m.\u001b[39mlower() \u001b[38;5;28;01mfor\u001b[39;00m k \u001b[38;5;129;01min\u001b[39;00m keywords[search_query])\n\u001b[1;32m     22\u001b[0m ]\n\u001b[1;32m     23\u001b[0m \u001b[38;5;66;03m# 合併成新文本\u001b[39;00m\n\u001b[1;32m     24\u001b[0m text \u001b[38;5;241m=\u001b[39m \u001b[38;5;124m\"\u001b[39m\u001b[38;5;130;01m\\n\u001b[39;00m\u001b[38;5;124m\"\u001b[39m\u001b[38;5;241m.\u001b[39mjoin(matched_paragraphs)\n",
      "\u001b[0;31mKeyboardInterrupt\u001b[0m: "
     ]
    }
   ],
   "source": [
    "# 篩選\n",
    "log = \"\"\n",
    "for search_query in search_queries:\n",
    "    print(search_query)\n",
    "    loop = tqdm(range(report_year[0], report_year[1] + 1))\n",
    "    for year in loop:\n",
    "        loop.set_description(f\"篩選 {year} 年文本\")\n",
    "        report_files = [f for f in os.listdir(report_folder + str(year))]\n",
    "        for file in report_files:\n",
    "            input_file = f\"{report_folder}/{str(year)}/{file}\"\n",
    "            output_file = f\"{filter_folder}{search_query}/{str(year)}/{file}\"\n",
    "            if not os.path.exists(output_file):\n",
    "                with open(input_file, \"r\", encoding=\"utf-8\") as f:\n",
    "                    text = f.read()\n",
    "                # 分段處理\n",
    "                paragraphs = text.strip().split(\"\\n\")\n",
    "                # 轉小寫做比對（保留原始段落）\n",
    "                matched_paragraphs = [\n",
    "                    para\n",
    "                    for para in paragraphs\n",
    "                    if any(k.lower() in para.lower() for k in keywords[search_query])\n",
    "                ]\n",
    "                # 合併成新文本\n",
    "                text = \"\\n\".join(matched_paragraphs)\n",
    "                save_to_file(text, output_file)\n",
    "print(log)"
   ]
  }
 ],
 "metadata": {
  "kernelspec": {
   "display_name": "base",
   "language": "python",
   "name": "python3"
  },
  "language_info": {
   "codemirror_mode": {
    "name": "ipython",
    "version": 3
   },
   "file_extension": ".py",
   "mimetype": "text/x-python",
   "name": "python",
   "nbconvert_exporter": "python",
   "pygments_lexer": "ipython3",
   "version": "3.9.20"
  }
 },
 "nbformat": 4,
 "nbformat_minor": 5
}
